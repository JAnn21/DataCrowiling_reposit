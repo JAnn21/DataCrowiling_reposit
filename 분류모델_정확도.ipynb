{
 "cells": [
  {
   "cell_type": "code",
   "execution_count": 8,
   "id": "01b40a7e",
   "metadata": {},
   "outputs": [
    {
     "name": "stdout",
     "output_type": "stream",
     "text": [
      "그레이하운드  파일 길이 :  698\n",
      "그레이하운드  :  ./data/그레이하운드\\action-2962594__340.jpg\n",
      "말티즈  파일 길이 :  680\n",
      "말티즈  :  ./data/말티즈\\animal-2881905__340.jpg\n",
      "불독  파일 길이 :  1166\n",
      "불독  :  ./data/불독\\adorable-1853438__340.jpg\n",
      "불독  :  ./data/불독\\french-bulldog-5087397__340.jpg\n",
      "비글  파일 길이 :  530\n",
      "비글  :  ./data/비글\\adorable-4650399__340.jpg\n",
      "셰퍼드  파일 길이 :  2175\n",
      "셰퍼드  :  ./data/셰퍼드\\a-protestant-pastor-4572875__340.jpg\n",
      "셰퍼드  :  ./data/셰퍼드\\dog-398556__340.jpg\n",
      "셰퍼드  :  ./data/셰퍼드\\goats-2943146__340.jpg\n",
      "셰퍼드  :  ./data/셰퍼드\\셰퍼드_415.jpg\n",
      "시바견  파일 길이 :  310\n",
      "시바견  :  ./data/시바견\\animal-2866654__340.jpg\n",
      "시츄  파일 길이 :  250\n",
      "시츄  :  ./data/시츄\\pet-3521679__340.jpg\n",
      "요크셔테리어  파일 길이 :  634\n",
      "요크셔테리어  :  ./data/요크셔테리어\\animal-1283027__340.jpg\n",
      "웰시코기  파일 길이 :  367\n",
      "웰시코기  :  ./data/웰시코기\\active-5078229__340.jpg\n",
      "치와와  파일 길이 :  503\n",
      "치와와  :  ./data/치와와\\and-1594161__340.jpg\n",
      "포메라니안  파일 길이 :  421\n",
      "포메라니안  :  ./data/포메라니안\\cute-3252210__340.jpg\n",
      "푸들  파일 길이 :  550\n",
      "푸들  :  ./data/푸들\\dog-1406295__340.jpg\n",
      "허스키  파일 길이 :  858\n",
      "허스키  :  ./data/허스키\\alaskan-husky-1460928__340.jpg\n",
      "허스키  :  ./data/허스키\\허스키_242.jpg\n",
      "ok 9142\n"
     ]
    }
   ],
   "source": [
    "from PIL import Image\n",
    "import os, glob, numpy as np\n",
    "from sklearn.model_selection import train_test_split\n",
    "\n",
    "caltech_dir = \"./data\"\n",
    "categories = [\"그레이하운드\", \"말티즈\", \"불독\", \"비글\",\"셰퍼드\",\"시바견\",\"시츄\",\"요크셔테리어\",\"웰시코기\",\"치와와\",\"포메라니안\",\"푸들\",\"허스키\"]\n",
    "nb_classes = len(categories)\n",
    "\n",
    "image_w = 64\n",
    "image_h = 64\n",
    "\n",
    "pixels = image_h * image_w * 3\n",
    "\n",
    "\n",
    "X = []\n",
    "y = []\n",
    "\n",
    "for idx, cat in enumerate(categories):\n",
    "    \n",
    "    #one-hot 돌리기.\n",
    "    label = [0 for i in range(nb_classes)]\n",
    "    label[idx] = 1\n",
    "\n",
    "    image_dir = caltech_dir + \"/\" + cat\n",
    "    files = glob.glob(image_dir+\"/*.jpg\")\n",
    "    print(cat, \" 파일 길이 : \", len(files))\n",
    "    for i, f in enumerate(files):\n",
    "        img = Image.open(f)\n",
    "        img = img.convert(\"RGB\")\n",
    "        img = img.resize((image_w, image_h))\n",
    "        data = np.asarray(img)\n",
    "\n",
    "        X.append(data)\n",
    "        y.append(label)\n",
    "\n",
    "        if i % 700 == 0:\n",
    "            print(cat, \" : \", f)\n",
    "\n",
    "X = np.array(X)\n",
    "y = np.array(y)\n",
    "#1 0 0 0 이면 airplanes\n",
    "#0 1 0 0 이면 buddha 이런식\n",
    "\n",
    "\n",
    "X_train, X_test, y_train, y_test = train_test_split(X, y)\n",
    "xy = (X_train, X_test, y_train, y_test)\n",
    "np.save(\"./numpy_data/multi_image_data.npy\", xy)\n",
    "\n",
    "print(\"ok\", len(y))"
   ]
  },
  {
   "cell_type": "code",
   "execution_count": 9,
   "id": "68fa6905",
   "metadata": {},
   "outputs": [],
   "source": [
    "import numpy as np\n",
    "np.load.__defaults__=(None, True, True, 'ASCII')\n",
    "from keras.models import Sequential\n",
    "from keras.layers import Conv2D, MaxPooling2D, Dense, Flatten, Dropout\n",
    "from keras.callbacks import EarlyStopping, ModelCheckpoint\n",
    "import matplotlib.pyplot as plt\n",
    "\n",
    "import tensorflow as tf\n",
    "\n",
    "X_train, X_test, y_train, y_test = np.load('./numpy_data/multi_image_data.npy')\n",
    "\n",
    "X_train = X_train.astype(float) / 255\n",
    "X_test = X_test.astype(float) / 255\n",
    "\n",
    "model = Sequential()\n",
    "model.add(Conv2D(32, (3,3), padding=\"same\", input_shape=X_train.shape[1:], activation='relu'))\n",
    "model.add(MaxPooling2D(pool_size=(2,2)))\n",
    "model.add(Dropout(0.25))\n",
    "    \n",
    "model.add(Conv2D(64, (3,3), padding=\"same\", activation='relu'))\n",
    "model.add(MaxPooling2D(pool_size=(2,2)))\n",
    "model.add(Dropout(0.25))\n",
    "\n",
    "model.add(Conv2D(128, (3,3), padding=\"same\", activation='relu'))\n",
    "model.add(Conv2D(128, (3,3), padding=\"same\", activation='relu'))\n",
    "model.add(MaxPooling2D(pool_size=(2,2)))\n",
    "model.add(Dropout(0.25))\n",
    "\n",
    "model.add(Flatten())\n",
    "model.add(Dense(256, activation='relu'))\n",
    "model.add(Dropout(0.5))\n",
    "model.add(Dense(nb_classes, activation='softmax'))\n",
    "\n",
    "model.compile(loss='categorical_crossentropy', optimizer='adam', metrics=['accuracy'])\n",
    "model_dir = './model'\n",
    "    \n",
    "if not os.path.exists(model_dir):\n",
    "    os.mkdir(model_dir)\n",
    "    \n",
    "model_path = model_dir + '/multi_img_classification2.model'\n",
    "checkpoint = ModelCheckpoint(filepath=model_path , monitor='val_loss', verbose=1, save_best_only=True)\n",
    "early_stopping = EarlyStopping(monitor='val_loss', patience=6)"
   ]
  },
  {
   "cell_type": "code",
   "execution_count": 3,
   "id": "60e9f0bb",
   "metadata": {},
   "outputs": [
    {
     "name": "stdout",
     "output_type": "stream",
     "text": [
      "Model: \"sequential\"\n",
      "_________________________________________________________________\n",
      "Layer (type)                 Output Shape              Param #   \n",
      "=================================================================\n",
      "conv2d (Conv2D)              (None, 64, 64, 32)        896       \n",
      "_________________________________________________________________\n",
      "max_pooling2d (MaxPooling2D) (None, 32, 32, 32)        0         \n",
      "_________________________________________________________________\n",
      "dropout (Dropout)            (None, 32, 32, 32)        0         \n",
      "_________________________________________________________________\n",
      "conv2d_1 (Conv2D)            (None, 32, 32, 64)        18496     \n",
      "_________________________________________________________________\n",
      "max_pooling2d_1 (MaxPooling2 (None, 16, 16, 64)        0         \n",
      "_________________________________________________________________\n",
      "dropout_1 (Dropout)          (None, 16, 16, 64)        0         \n",
      "_________________________________________________________________\n",
      "conv2d_2 (Conv2D)            (None, 16, 16, 128)       73856     \n",
      "_________________________________________________________________\n",
      "conv2d_3 (Conv2D)            (None, 16, 16, 128)       147584    \n",
      "_________________________________________________________________\n",
      "max_pooling2d_2 (MaxPooling2 (None, 8, 8, 128)         0         \n",
      "_________________________________________________________________\n",
      "dropout_2 (Dropout)          (None, 8, 8, 128)         0         \n",
      "_________________________________________________________________\n",
      "flatten (Flatten)            (None, 8192)              0         \n",
      "_________________________________________________________________\n",
      "dense (Dense)                (None, 256)               2097408   \n",
      "_________________________________________________________________\n",
      "dropout_3 (Dropout)          (None, 256)               0         \n",
      "_________________________________________________________________\n",
      "dense_1 (Dense)              (None, 13)                3341      \n",
      "=================================================================\n",
      "Total params: 2,341,581\n",
      "Trainable params: 2,341,581\n",
      "Non-trainable params: 0\n",
      "_________________________________________________________________\n"
     ]
    }
   ],
   "source": [
    "model.summary()"
   ]
  },
  {
   "cell_type": "code",
   "execution_count": null,
   "id": "9a3c687e",
   "metadata": {
    "scrolled": true
   },
   "outputs": [
    {
     "name": "stdout",
     "output_type": "stream",
     "text": [
      "Epoch 1/50\n",
      "215/215 [==============================] - 26s 117ms/step - loss: 2.0275 - accuracy: 0.3426 - val_loss: 1.9133 - val_accuracy: 0.3753\n",
      "\n",
      "Epoch 00001: val_loss did not improve from 1.90937\n",
      "Epoch 2/50\n",
      "215/215 [==============================] - 24s 111ms/step - loss: 1.8977 - accuracy: 0.3791 - val_loss: 1.8662 - val_accuracy: 0.3793\n",
      "\n",
      "Epoch 00002: val_loss improved from 1.90937 to 1.86619, saving model to ./model\\multi_img_classification2.model\n",
      "INFO:tensorflow:Assets written to: ./model\\multi_img_classification2.model\\assets\n",
      "Epoch 3/50\n",
      "215/215 [==============================] - 24s 111ms/step - loss: 1.8005 - accuracy: 0.4110 - val_loss: 1.8176 - val_accuracy: 0.4003\n",
      "\n",
      "Epoch 00003: val_loss improved from 1.86619 to 1.81762, saving model to ./model\\multi_img_classification2.model\n",
      "INFO:tensorflow:Assets written to: ./model\\multi_img_classification2.model\\assets\n",
      "Epoch 4/50\n",
      "215/215 [==============================] - 24s 111ms/step - loss: 1.6970 - accuracy: 0.4360 - val_loss: 1.8683 - val_accuracy: 0.4029\n",
      "\n",
      "Epoch 00004: val_loss did not improve from 1.81762\n",
      "Epoch 5/50\n",
      "215/215 [==============================] - 24s 111ms/step - loss: 1.6241 - accuracy: 0.4573 - val_loss: 1.7897 - val_accuracy: 0.4217\n",
      "\n",
      "Epoch 00005: val_loss improved from 1.81762 to 1.78974, saving model to ./model\\multi_img_classification2.model\n",
      "INFO:tensorflow:Assets written to: ./model\\multi_img_classification2.model\\assets\n",
      "Epoch 6/50\n",
      "215/215 [==============================] - 24s 112ms/step - loss: 1.5185 - accuracy: 0.4918 - val_loss: 1.7925 - val_accuracy: 0.4234\n",
      "\n",
      "Epoch 00006: val_loss did not improve from 1.78974\n",
      "Epoch 7/50\n",
      "215/215 [==============================] - 24s 113ms/step - loss: 1.4075 - accuracy: 0.5265 - val_loss: 1.7846 - val_accuracy: 0.4396\n",
      "\n",
      "Epoch 00007: val_loss improved from 1.78974 to 1.78459, saving model to ./model\\multi_img_classification2.model\n",
      "INFO:tensorflow:Assets written to: ./model\\multi_img_classification2.model\\assets\n",
      "Epoch 8/50\n",
      "215/215 [==============================] - 25s 115ms/step - loss: 1.3179 - accuracy: 0.5513 - val_loss: 1.8646 - val_accuracy: 0.4300\n",
      "\n",
      "Epoch 00008: val_loss did not improve from 1.78459\n",
      "Epoch 9/50\n",
      "215/215 [==============================] - 25s 117ms/step - loss: 1.2229 - accuracy: 0.5900 - val_loss: 1.8952 - val_accuracy: 0.4370\n",
      "\n",
      "Epoch 00009: val_loss did not improve from 1.78459\n",
      "Epoch 10/50\n",
      "215/215 [==============================] - 25s 115ms/step - loss: 1.1431 - accuracy: 0.6095 - val_loss: 1.9295 - val_accuracy: 0.4208\n",
      "\n",
      "Epoch 00010: val_loss did not improve from 1.78459\n",
      "Epoch 11/50\n",
      "200/215 [==========================>...] - ETA: 1s - loss: 1.0630 - accuracy: 0.6466"
     ]
    }
   ],
   "source": [
    "from keras.models import load_model\n",
    "model = load_model('./model/multi_img_classification.model')\n",
    "history = model.fit(X_train, y_train, batch_size=32, epochs=50, validation_data=(X_test, y_test), callbacks=[checkpoint, early_stopping])"
   ]
  },
  {
   "cell_type": "code",
   "execution_count": 11,
   "id": "f83a6c23",
   "metadata": {},
   "outputs": [
    {
     "name": "stdout",
     "output_type": "stream",
     "text": [
      "72/72 [==============================] - 2s 23ms/step - loss: 1.9660 - accuracy: 0.4038\n",
      "정확도 : 0.4038\n"
     ]
    }
   ],
   "source": [
    "print(\"정확도 : %.4f\" % (model.evaluate(X_test, y_test)[1]))"
   ]
  },
  {
   "cell_type": "code",
   "execution_count": 12,
   "id": "fbd5d495",
   "metadata": {},
   "outputs": [
    {
     "data": {
      "image/png": "[encoded data removed]",
      "text/plain": [
       "<Figure size 432x288 with 1 Axes>"
      ]
     },
     "metadata": {
      "needs_background": "light"
     },
     "output_type": "display_data"
    }
   ],
   "source": [
    "y_vloss = history.history['val_loss']\n",
    "y_loss = history.history['loss']\n",
    "\n",
    "x_len = np.arange(len(y_loss))\n",
    "\n",
    "plt.plot(x_len, y_vloss, marker='.', c='red', label='val_set_loss')\n",
    "plt.plot(x_len, y_loss, marker='.', c='blue', label='train_set_oss')\n",
    "plt.legend()\n",
    "plt.xlabel('epochs')\n",
    "plt.ylabel('loss')\n",
    "plt.grid()\n",
    "plt.show()"
   ]
  },
  {
   "cell_type": "code",
   "execution_count": null,
   "id": "3671ba93",
   "metadata": {},
   "outputs": [],
   "source": []
  }
 ],
 "metadata": {
  "kernelspec": {
   "display_name": "Python 3",
   "language": "python",
   "name": "python3"
  },
  "language_info": {
   "codemirror_mode": {
    "name": "ipython",
    "version": 3
   },
   "file_extension": ".py",
   "mimetype": "text/x-python",
   "name": "python",
   "nbconvert_exporter": "python",
   "pygments_lexer": "ipython3",
   "version": "3.8.8"
  }
 },
 "nbformat": 4,
 "nbformat_minor": 5
}
